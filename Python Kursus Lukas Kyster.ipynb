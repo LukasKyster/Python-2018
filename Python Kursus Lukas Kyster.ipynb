{
 "cells": [
  {
   "cell_type": "markdown",
   "metadata": {},
   "source": [
    "# Introduktion til Jupyter Notebook Markdown\n",
    "\n",
    "Her vil der komme de mest andvendte kommandoer til markdown, som er en måde at marke forskellige skriftstørrelser og funktioner der er system uafhængige.\n",
    "\n",
    "Man kan lave noget *kursivt*. Det er også muligt at lave det **fed** og ***fed og kursiv***\n",
    "\n",
    "       - check liste?\n",
    "       \n",
    "       \n",
    "****2+3+5+6****"
   ]
  },
  {
   "cell_type": "markdown",
   "metadata": {},
   "source": [
    "## Python for noobs\n"
   ]
  },
  {
   "cell_type": "markdown",
   "metadata": {},
   "source": [
    "### variabler\n",
    "\n",
    "I python er der ingen {} der er heller ingen;. Det heler er baseret på linjeskift og indtryk. Det har både nogle fordele, men også nogle ulemper. Det vigtigt at holde sog for øje at det nøjagtige antal mellemrum/spaces har indflydelse på det såkaldte **scope**. Mere om det senere.\n",
    "\n",
    "Ydermere kræver Python ikke en specifikation af datatype til variablen."
   ]
  },
  {
   "cell_type": "code",
   "execution_count": 8,
   "metadata": {},
   "outputs": [],
   "source": [
    "#lad os oprette lidt variabler, Variabler kan hedde hvad som helst\n",
    "\n",
    "#Variabel der indeholder HELTAL kaldet Int eller Integers på engelsk\n",
    "\n",
    "a = 7\n",
    "hest = 2\n",
    "mor = 10\n",
    "\n",
    "#MEEEEEN ingen æøå eller specialtegn\n",
    "\n",
    "\n",
    "pølse = 5\n",
    "\n",
    "\n",
    "#Kald dem noget forståeligt og brugbart som f.eks.\n",
    "\n",
    "antal_hjul = 4\n",
    "health = 100\n",
    "ammo = 30\n",
    "speed = 0\n",
    "  #osv. osv. osv.\n",
    "    \n",
    "#Variabel der indeholder KOMMATAL kaldes Float på engelsk\n",
    "\n",
    "b = 2.5\n",
    "\n",
    "#Variabel der indeholder TEKST kaldet String på engelsk\n",
    "\n",
    "c = \"hej\"\n",
    "\n",
    "#Variabel der indeholder KOMMATAL Boolske værdier dvs. SANDT/FALSK på engelsk Bool/Boolean\n",
    "\n",
    "d = False\n",
    "\n",
    "#pas på vi kan lave rod i det hele \n",
    "\n",
    "#d = \"Hej igen\""
   ]
  },
  {
   "cell_type": "code",
   "execution_count": 5,
   "metadata": {},
   "outputs": [
    {
     "name": "stdout",
     "output_type": "stream",
     "text": [
      "7\n"
     ]
    }
   ],
   "source": [
    "#For at undersøger hvad vi har eller hvad der gemmer sig i forskellige variabler kan vi bruge det der hedder print\n",
    "\n",
    "print(a)\n"
   ]
  },
  {
   "cell_type": "code",
   "execution_count": 9,
   "metadata": {},
   "outputs": [
    {
     "name": "stdout",
     "output_type": "stream",
     "text": [
      "<class 'int'>\n",
      "<class 'float'>\n",
      "<class 'str'>\n",
      "<class 'bool'>\n"
     ]
    }
   ],
   "source": [
    "# Ofte har vi brug for at se præcis hvilken type variabel det er. Til dette kan vi bruge funktionen type.\n",
    "\n",
    "print(type(a))\n",
    "print(type(b))\n",
    "print(type(c))\n",
    "print(type(d))\n"
   ]
  },
  {
   "cell_type": "code",
   "execution_count": null,
   "metadata": {},
   "outputs": [],
   "source": []
  }
 ],
 "metadata": {
  "kernelspec": {
   "display_name": "Python 3",
   "language": "python",
   "name": "python3"
  },
  "language_info": {
   "codemirror_mode": {
    "name": "ipython",
    "version": 3
   },
   "file_extension": ".py",
   "mimetype": "text/x-python",
   "name": "python",
   "nbconvert_exporter": "python",
   "pygments_lexer": "ipython3",
   "version": "3.7.1"
  }
 },
 "nbformat": 4,
 "nbformat_minor": 2
}
